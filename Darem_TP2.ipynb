{
 "cells": [
  {
   "cell_type": "code",
   "execution_count": 3,
   "metadata": {},
   "outputs": [],
   "source": [
    "#Exercice 1 \n",
    "import pandas as pd\n",
    "NON_VAR = ['WIFE_AGE','WIFE_EDU','HUSB_EDU','NUM_OF_CHILD',\\\n",
    "           'WIFE_RELI','WIFE_WORK','HUSB_OCUP','STA_OF_LIV','MEDIA_EXP','CONTRACEPTIVE']\n",
    "donnee = pd.read_csv(\"/users/brahda15/Documents/cmc.data.txt\",sep=',',header=None,names=NON_VAR)"
   ]
  },
  {
   "cell_type": "code",
   "execution_count": 4,
   "metadata": {},
   "outputs": [
    {
     "data": {
      "text/plain": [
       "1    629\n",
       "3    511\n",
       "2    333\n",
       "Name: CONTRACEPTIVE, dtype: int64"
      ]
     },
     "execution_count": 4,
     "metadata": {},
     "output_type": "execute_result"
    }
   ],
   "source": [
    "donnee['CONTRACEPTIVE'].value_counts()"
   ]
  },
  {
   "cell_type": "code",
   "execution_count": 5,
   "metadata": {},
   "outputs": [
    {
     "data": {
      "text/plain": [
       "Index(['WIFE_AGE', 'WIFE_EDU', 'HUSB_EDU', 'NUM_OF_CHILD', 'WIFE_RELI',\n",
       "       'WIFE_WORK', 'HUSB_OCUP', 'STA_OF_LIV', 'MEDIA_EXP', 'CONTRACEPTIVE'],\n",
       "      dtype='object')"
      ]
     },
     "execution_count": 5,
     "metadata": {},
     "output_type": "execute_result"
    }
   ],
   "source": [
    "donnee.columns"
   ]
  },
  {
   "cell_type": "code",
   "execution_count": 6,
   "metadata": {},
   "outputs": [],
   "source": [
    "features = [o for o in donnee.columns if o !='CONTRACEPTIVE']\n",
    "X = donnee[features]\n",
    "Y = donnee['CONTRACEPTIVE']"
   ]
  },
  {
   "cell_type": "code",
   "execution_count": 7,
   "metadata": {},
   "outputs": [],
   "source": [
    "import numpy as np\n",
    "Y_red = np.where(Y==1,0,1)"
   ]
  },
  {
   "cell_type": "code",
   "execution_count": 8,
   "metadata": {},
   "outputs": [
    {
     "name": "stderr",
     "output_type": "stream",
     "text": [
      "/usr/local/lib/python3.6/dist-packages/pandas/core/indexing.py:494: SettingWithCopyWarning: \n",
      "A value is trying to be set on a copy of a slice from a DataFrame.\n",
      "Try using .loc[row_indexer,col_indexer] = value instead\n",
      "\n",
      "See the caveats in the documentation: http://pandas.pydata.org/pandas-docs/stable/user_guide/indexing.html#returning-a-view-versus-a-copy\n",
      "  self.obj[item] = s\n"
     ]
    }
   ],
   "source": [
    "import pandas as pd\n",
    "a_dummies = ['WIFE_EDU','HUSB_EDU','HUSB_OCUP','STA_OF_LIV']\n",
    "\n",
    "for var in a_dummies:\n",
    "    X.loc[:,var] = X.loc[:,var].copy().astype(str)\n",
    "\n",
    "X_dum = pd.get_dummies(X[a_dummies])"
   ]
  },
  {
   "cell_type": "code",
   "execution_count": 9,
   "metadata": {},
   "outputs": [],
   "source": [
    "A_garder = [var for var in list(X) if var not in a_dummies]\n",
    "X = X[A_garder]\n",
    "\n",
    "X = pd.concat([X,X_dum],axis=1)"
   ]
  },
  {
   "cell_type": "code",
   "execution_count": 11,
   "metadata": {},
   "outputs": [],
   "source": [
    "#1/Division en échantillon d'apprentissage et de test\n",
    "from sklearn.model_selection import train_test_split\n",
    "X_train, X_test,Y_train, Y_test = train_test_split(X,Y_red,test_size=0.33,random_state=1997)\n"
   ]
  },
  {
   "cell_type": "code",
   "execution_count": 12,
   "metadata": {},
   "outputs": [],
   "source": [
    "#2/Modèle de régression logistique\n",
    "from sklearn.linear_model import LogisticRegression\n",
    "logit1  = LogisticRegression(penalty='l2',random_state=1997, solver='lbfgs',C=1/2,max_iter=1000, multi_class='auto')"
   ]
  },
  {
   "cell_type": "code",
   "execution_count": 13,
   "metadata": {},
   "outputs": [
    {
     "data": {
      "text/plain": [
       "LogisticRegression(C=0.5, class_weight=None, dual=False, fit_intercept=True,\n",
       "          intercept_scaling=1, max_iter=1000, multi_class='auto',\n",
       "          n_jobs=None, penalty='l2', random_state=1997, solver='lbfgs',\n",
       "          tol=0.0001, verbose=0, warm_start=False)"
      ]
     },
     "execution_count": 13,
     "metadata": {},
     "output_type": "execute_result"
    }
   ],
   "source": [
    "#3/Entrainement du modèle avec les données tests\n",
    "logit1.fit(X_train,Y_train)"
   ]
  },
  {
   "cell_type": "code",
   "execution_count": 15,
   "metadata": {},
   "outputs": [],
   "source": [
    "#4/Prévision de Y_pred produite avec les X_tests et le modèle logit1\n",
    "Y_pred = logit1.predict(X_test)"
   ]
  },
  {
   "cell_type": "code",
   "execution_count": 16,
   "metadata": {},
   "outputs": [
    {
     "data": {
      "text/plain": [
       "0.6776180698151951"
      ]
     },
     "execution_count": 16,
     "metadata": {},
     "output_type": "execute_result"
    }
   ],
   "source": [
    "#5/Calcul de la précision du modèle\n",
    "from sklearn.metrics import accuracy_score\n",
    "accuracy_score(Y_test,Y_pred)"
   ]
  },
  {
   "cell_type": "code",
   "execution_count": 17,
   "metadata": {},
   "outputs": [
    {
     "data": {
      "text/plain": [
       "array([[ 99, 113],\n",
       "       [ 44, 231]])"
      ]
     },
     "execution_count": 17,
     "metadata": {},
     "output_type": "execute_result"
    }
   ],
   "source": [
    "#6/Calcul de la matrice de confusion du modèle logit1\n",
    "from sklearn.metrics import confusion_matrix\n",
    "confusion_matrix(Y_test,Y_pred)"
   ]
  },
  {
   "cell_type": "code",
   "execution_count": 18,
   "metadata": {},
   "outputs": [],
   "source": [
    "#7/Prévision en probabilité du modèle logit1\n",
    "Y_pred_prob = logit1.predict_proba(X_test)"
   ]
  },
  {
   "cell_type": "code",
   "execution_count": 19,
   "metadata": {},
   "outputs": [
    {
     "data": {
      "text/plain": [
       "0.7177358490566038"
      ]
     },
     "execution_count": 19,
     "metadata": {},
     "output_type": "execute_result"
    }
   ],
   "source": [
    "#8/Calcul du score AUC du modèle logit1\n",
    "from sklearn.metrics import roc_auc_score, auc\n",
    "roc_auc_score(Y_test,logit1.predict_proba(X_test)[:,1])"
   ]
  },
  {
   "cell_type": "code",
   "execution_count": 22,
   "metadata": {},
   "outputs": [
    {
     "data": {
      "image/png": "[encoded data removed]",
      "text/plain": [
       "<matplotlib.figure.Figure at 0x7f5c328b94a8>"
      ]
     },
     "metadata": {
      "needs_background": "light"
     },
     "output_type": "display_data"
    }
   ],
   "source": [
    "#9/Courbe ROC du modèle logit1\n",
    "from sklearn.metrics import roc_curve, auc\n",
    "fpr, tpr, threshold = roc_curve(Y_test,logit1.predict_proba(X_test)[:,1])\n",
    "auc(fpr,tpr)\n",
    "\n",
    "import numpy as np\n",
    "\n",
    "import matplotlib.pyplot as plt\n",
    "plt.plot(fpr,tpr,label = \"SCORE AUC:\"+str(np.round(auc(fpr,tpr),4)))\n",
    "plt.plot([0,1],[0,1],color='blue')\n",
    "plt.ylabel(\"tpr\",fontsize='large')\n",
    "plt.xlabel(\"fpr\",fontsize='large')\n",
    "plt.fill_between(fpr, fpr, tpr,color='grey')\n",
    "plt.legend(loc=4)\n",
    "plt.show()"
   ]
  },
  {
   "cell_type": "code",
   "execution_count": 23,
   "metadata": {},
   "outputs": [],
   "source": [
    "#Exercice 2\n",
    "\n",
    "#1/Division en échantillon d'apprentissage et de test\n",
    "from sklearn.model_selection import train_test_split\n",
    "X_train, X_test,Y_train, Y_test = train_test_split(X,Y_red,test_size=0.33,random_state=1998)"
   ]
  },
  {
   "cell_type": "code",
   "execution_count": 24,
   "metadata": {},
   "outputs": [],
   "source": [
    "#2/Création d'un modèle d'arbre de décision\n",
    "from sklearn.tree import DecisionTreeClassifier\n",
    "arbre = DecisionTreeClassifier(criterion='gini',max_depth=3,min_samples_split=2)"
   ]
  },
  {
   "cell_type": "code",
   "execution_count": 25,
   "metadata": {},
   "outputs": [
    {
     "data": {
      "text/plain": [
       "DecisionTreeClassifier(class_weight=None, criterion='gini', max_depth=3,\n",
       "            max_features=None, max_leaf_nodes=None,\n",
       "            min_impurity_decrease=0.0, min_impurity_split=None,\n",
       "            min_samples_leaf=1, min_samples_split=2,\n",
       "            min_weight_fraction_leaf=0.0, presort=False, random_state=None,\n",
       "            splitter='best')"
      ]
     },
     "execution_count": 25,
     "metadata": {},
     "output_type": "execute_result"
    }
   ],
   "source": [
    "#3/Entrainement du modèle\n",
    "arbre.fit(X_train,Y_train)"
   ]
  },
  {
   "cell_type": "code",
   "execution_count": 26,
   "metadata": {},
   "outputs": [],
   "source": [
    "#4/Calcul des prédictions\n",
    "Y_pred = arbre.predict(X_test)"
   ]
  },
  {
   "cell_type": "code",
   "execution_count": 27,
   "metadata": {},
   "outputs": [
    {
     "data": {
      "text/plain": [
       "0.6817248459958932"
      ]
     },
     "execution_count": 27,
     "metadata": {},
     "output_type": "execute_result"
    }
   ],
   "source": [
    "#5/Précision du modèle\n",
    "from sklearn.metrics import accuracy_score\n",
    "accuracy_score(Y_test,Y_pred)"
   ]
  },
  {
   "cell_type": "code",
   "execution_count": 31,
   "metadata": {},
   "outputs": [],
   "source": [
    "#6/Création d'un autre modèle d'arbre de décision\n",
    "arbrebis = DecisionTreeClassifier(criterion='gini',max_depth=9,min_samples_split=4,min_samples_leaf=3)\n",
    "arbrebis.fit(X_train,Y_train)\n",
    "Y_pred_bis = arbrebis.predict(X_test)"
   ]
  },
  {
   "cell_type": "code",
   "execution_count": 32,
   "metadata": {},
   "outputs": [
    {
     "data": {
      "text/plain": [
       "0.6940451745379876"
      ]
     },
     "execution_count": 32,
     "metadata": {},
     "output_type": "execute_result"
    }
   ],
   "source": [
    "#7/Calcul de la précision du nouveau modèle\n",
    "accuracy_score(Y_test,Y_pred_bis)"
   ]
  },
  {
   "cell_type": "code",
   "execution_count": 33,
   "metadata": {},
   "outputs": [],
   "source": [
    "#8/Prévision en probabilité du modèle arbrebis\n",
    "Y_pred_bis_prob = arbrebis.predict_proba(X_test)"
   ]
  },
  {
   "cell_type": "code",
   "execution_count": 34,
   "metadata": {},
   "outputs": [
    {
     "data": {
      "text/plain": [
       "0.70710557043753"
      ]
     },
     "execution_count": 34,
     "metadata": {},
     "output_type": "execute_result"
    }
   ],
   "source": [
    "#9/Calcul du score AUC du modèle arbrebis1\n",
    "roc_auc_score(Y_test,arbrebis.predict_proba(X_test)[:,1])"
   ]
  },
  {
   "cell_type": "code",
   "execution_count": 35,
   "metadata": {},
   "outputs": [
    {
     "data": {
      "image/png": "[encoded data removed]",
      "text/plain": [
       "<matplotlib.figure.Figure at 0x7f5c2eb55208>"
      ]
     },
     "metadata": {
      "needs_background": "light"
     },
     "output_type": "display_data"
    }
   ],
   "source": [
    "#10/Courbe ROC du modèle arbrebis\n",
    "fpr, tpr, threshold = roc_curve(Y_test,arbrebis.predict_proba(X_test)[:,1])\n",
    "auc(fpr,tpr)\n",
    "\n",
    "plt.plot(fpr,tpr,label = \"SCORE AUC:\"+str(np.round(auc(fpr,tpr),4)))\n",
    "plt.plot([0,1],[0,1],color='blue')\n",
    "plt.ylabel(\"tpr\",fontsize='large')\n",
    "plt.xlabel(\"fpr\",fontsize='large')\n",
    "plt.fill_between(fpr, fpr, tpr,color='grey')\n",
    "plt.legend(loc=4)\n",
    "plt.show()\n",
    "\n",
    "from sklearn.ensemble import RandomForestClassifier\n",
    "rdf = RandomForestClassifier(n_estimators=300, criterion='gini',\\\n",
    "                             random_state=1998,max_depth=7, min_samples_split=3,min_samples_leaf=2)\n",
    "rdf.fit(X_train,Y_train)\n",
    "\n"
   ]
  },
  {
   "cell_type": "code",
   "execution_count": 36,
   "metadata": {},
   "outputs": [
    {
     "data": {
      "text/plain": [
       "<function matplotlib.pyplot.show(*args, **kw)>"
      ]
     },
     "execution_count": 36,
     "metadata": {},
     "output_type": "execute_result"
    },
    {
     "data": {
      "image/png": "[encoded data removed]",
      "text/plain": [
       "<matplotlib.figure.Figure at 0x7f5c2eb1ef28>"
      ]
     },
     "metadata": {
      "needs_background": "light"
     },
     "output_type": "display_data"
    }
   ],
   "source": [
    "#11/Illustration de l'importance des features\n",
    "NON_FEATURES = X_train.columns\n",
    "\n",
    "import numpy as np\n",
    "IMPORTANCE_FEATURES = 100*np.round(arbrebis.feature_importances_,2)\n",
    "loca = np.arange(len(IMPORTANCE_FEATURES))\n",
    "\n",
    "index = np.argsort(IMPORTANCE_FEATURES)[::-1]\n",
    "\n",
    "#on ordonne \n",
    "IMPORTANCE_FEATURES = IMPORTANCE_FEATURES[index][0:15]\n",
    "NON_FEATURES = NON_FEATURES[index][0:15]\n",
    "loca  = loca[0:15]\n",
    "\n",
    "import matplotlib.pyplot as plt\n",
    "plt.bar(loca,IMPORTANCE_FEATURES,edgecolor='red',color='red')\n",
    "plt.yticks([])\n",
    "plt.xticks(loca,NON_FEATURES,color='black',rotation=80)\n",
    "plt.box(False)\n",
    "for i in range(0,len(NON_FEATURES)):\n",
    "    plt.text(loca[i]-0.3,IMPORTANCE_FEATURES[i],str(np.round(IMPORTANCE_FEATURES[i],1)))\n",
    "plt.show"
   ]
  },
  {
   "cell_type": "code",
   "execution_count": 40,
   "metadata": {},
   "outputs": [],
   "source": [
    "#Exercice 3\n",
    "\n",
    "#1/Création d'un modèle de forêts aléatoires\n",
    "from sklearn.ensemble import RandomForestClassifier\n",
    "randfo = RandomForestClassifier(n_estimators=300, criterion='gini',\\\n",
    "                             random_state=1998,max_depth=9, min_samples_split=3,min_samples_leaf=2,max_features=0.7)\n",
    "randfo.fit(X_train,Y_train)\n",
    "Y_pred_rdf = randfo.predict(X_test)"
   ]
  },
  {
   "cell_type": "code",
   "execution_count": 38,
   "metadata": {},
   "outputs": [],
   "source": [
    "#2/ TODO\n"
   ]
  },
  {
   "cell_type": "code",
   "execution_count": 41,
   "metadata": {},
   "outputs": [
    {
     "data": {
      "text/plain": [
       "0.7268993839835729"
      ]
     },
     "execution_count": 41,
     "metadata": {},
     "output_type": "execute_result"
    }
   ],
   "source": [
    "#3/Calcul de la précision\n",
    "accuracy_score(Y_test,Y_pred_rdf)"
   ]
  },
  {
   "cell_type": "code",
   "execution_count": 42,
   "metadata": {},
   "outputs": [
    {
     "data": {
      "text/plain": [
       "0.7696957208599492"
      ]
     },
     "execution_count": 42,
     "metadata": {},
     "output_type": "execute_result"
    }
   ],
   "source": [
    "#4/Calcul du score AUC\n",
    "roc_auc_score(Y_test,randfo.predict_proba(X_test)[:,1])"
   ]
  },
  {
   "cell_type": "code",
   "execution_count": null,
   "metadata": {},
   "outputs": [],
   "source": []
  }
 ],
 "metadata": {
  "kernelspec": {
   "display_name": "Python 3",
   "language": "python",
   "name": "python3"
  },
  "language_info": {
   "codemirror_mode": {
    "name": "ipython",
    "version": 3
   },
   "file_extension": ".py",
   "mimetype": "text/x-python",
   "name": "python",
   "nbconvert_exporter": "python",
   "pygments_lexer": "ipython3",
   "version": "3.6.9"
  }
 },
 "nbformat": 4,
 "nbformat_minor": 2
}
